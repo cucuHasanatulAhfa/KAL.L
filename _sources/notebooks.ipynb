{
 "cells": [
  {
   "cell_type": "markdown",
   "metadata": {},
   "source": [
    "# Sistem Persamaan Linier\n",
    "\n",
    "Pengertian Persamaan Linier Persamaan linier adalah persamaan yang menggambarkan hubungan antara variabel-variabel dengan perubahan yang bersifat tetap atau sebanding. Disebut “linier” karena jika digambarkan dalam grafik, bentuknya berupa garis lurus.\n",
    "\n",
    "Ciri-Ciri Persamaan Linier Hanya mengandung variabel dengan pangkat satu. Tidak ada perkalian antar variabel. Bentuknya sederhana dan mudah dihitung. Jika digambarkan, akan membentuk garis lurus. Contoh dalam Kehidupan Sehari-hari Menghitung harga total belanja, misalnya saat membeli beberapa barang dengan harga tetap. Menentukan jarak perjalanan, jika seseorang berkendara dengan kecepatan tetap selama beberapa waktu. Menghitung keuntungan bisnis, di mana total keuntungan bergantung pada jumlah barang yang terjual. Kesimpulan Persamaan linier adalah konsep dasar dalam matematika yang sering digunakan dalam kehidupan sehari-hari untuk berbagai perhitungan sederhana dan logis."
   ]
  }
 ],
 "metadata": {
  "kernelspec": {
   "display_name": "Python 3",
   "language": "python",
   "name": "python3"
  },
  "language_info": {
   "codemirror_mode": {
    "name": "ipython",
    "version": 3
   },
   "file_extension": ".py",
   "mimetype": "text/x-python",
   "name": "python",
   "nbconvert_exporter": "python",
   "pygments_lexer": "ipython3",
   "version": "3.8.0"
  },
  "widgets": {
   "application/vnd.jupyter.widget-state+json": {
    "state": {},
    "version_major": 2,
    "version_minor": 0
   }
  }
 },
 "nbformat": 4,
 "nbformat_minor": 4
}
